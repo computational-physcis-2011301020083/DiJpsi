{
 "cells": [
  {
   "cell_type": "code",
   "execution_count": 1,
   "metadata": {},
   "outputs": [
    {
     "name": "stdout",
     "output_type": "stream",
     "text": [
      "Welcome to JupyROOT 6.18/00\n"
     ]
    }
   ],
   "source": [
    "import ROOT,glob,math,os\n",
    "from array import array"
   ]
  },
  {
   "cell_type": "code",
   "execution_count": 2,
   "metadata": {},
   "outputs": [
    {
     "name": "stdout",
     "output_type": "stream",
     "text": [
      "['./Reduce/sig_mc16a.root', './Reduce/sig_mc16e.root', './Reduce/sig_mc16d.root']\n",
      "======> EVENT:1\n",
      " theta_x         = 2.54727\n",
      " phi_1           = 1.52386\n",
      " phi_2           = 0.605219\n",
      " theta_phi_1     = 1.90353\n",
      " theta_phi_2     = 1.06706\n",
      " mc16a_trigger   = 1, \n",
      "                  1, 0, 0, 0\n",
      " mc16d_trigger   = 0, \n",
      "                  0, 0\n",
      " mc16e_trigger   = 1, \n",
      "                  0\n"
     ]
    }
   ],
   "source": [
    "h1=ROOT.TH1F(\"theta_x\",\"theta_x\",200,0,4)\n",
    "h2=ROOT.TH1F(\"phi_1\",\"phi_1\",200,0,4)\n",
    "h3=ROOT.TH1F(\"phi_2\",\"phi_2\",200,0,4)\n",
    "h4=ROOT.TH1F(\"theta_phi_1\",\"theta_phi_1\",200,0,4)\n",
    "h5=ROOT.TH1F(\"theta_phi_2\",\"theta_phi_2\",200,0,4)\n",
    "\n",
    "i1=ROOT.TH1F(\"theta_x_a1\",\"theta_x_a1\",200,0,4)\n",
    "i2=ROOT.TH1F(\"phi_1_a1\",\"phi_1_a1\",200,0,4)\n",
    "i3=ROOT.TH1F(\"phi_2_a1\",\"phi_2_a1\",200,0,4)\n",
    "i4=ROOT.TH1F(\"theta_phi_1_a1\",\"theta_phi_1_a1\",200,0,4)\n",
    "i5=ROOT.TH1F(\"theta_phi_2_a1\",\"theta_phi_2_a1\",200,0,4)\n",
    "\n",
    "j1=ROOT.TH1F(\"theta_x_a2\",\"theta_x_a2\",200,0,4)\n",
    "j2=ROOT.TH1F(\"phi_1_a2\",\"phi_1_a2\",200,0,4)\n",
    "j3=ROOT.TH1F(\"phi_2_a2\",\"phi_2_a2\",200,0,4)\n",
    "j4=ROOT.TH1F(\"theta_phi_1_a2\",\"theta_phi_1_a2\",200,0,4)\n",
    "j5=ROOT.TH1F(\"theta_phi_2_a2\",\"theta_phi_2_a2\",200,0,4)\n",
    "\n",
    "k1=ROOT.TH1F(\"theta_x_a3\",\"theta_x_a3\",200,0,4)\n",
    "k2=ROOT.TH1F(\"phi_1_a3\",\"phi_1_a3\",200,0,4)\n",
    "k3=ROOT.TH1F(\"phi_2_a3\",\"phi_2_a3\",200,0,4)\n",
    "k4=ROOT.TH1F(\"theta_phi_1_a3\",\"theta_phi_1_a3\",200,0,4)\n",
    "k5=ROOT.TH1F(\"theta_phi_2_a3\",\"theta_phi_2_a3\",200,0,4)\n",
    "\n",
    "l1=ROOT.TH1F(\"theta_x_a4\",\"theta_x_a4\",200,0,4)\n",
    "l2=ROOT.TH1F(\"phi_1_a4\",\"phi_1_a4\",200,0,4)\n",
    "l3=ROOT.TH1F(\"phi_2_a4\",\"phi_2_a4\",200,0,4)\n",
    "l4=ROOT.TH1F(\"theta_phi_1_a4\",\"theta_phi_1_a4\",200,0,4)\n",
    "l5=ROOT.TH1F(\"theta_phi_2_a4\",\"theta_phi_2_a4\",200,0,4)\n",
    "\n",
    "m1=ROOT.TH1F(\"theta_x_d1\",\"theta_x_d1\",200,0,4)\n",
    "m2=ROOT.TH1F(\"phi_1_d1\",\"phi_1_d1\",200,0,4)\n",
    "m3=ROOT.TH1F(\"phi_2_d1\",\"phi_2_d1\",200,0,4)\n",
    "m4=ROOT.TH1F(\"theta_phi_1_d1\",\"theta_phi_1_d1\",200,0,4)\n",
    "m5=ROOT.TH1F(\"theta_phi_2_d1\",\"theta_phi_2_d1\",200,0,4)\n",
    "\n",
    "n1=ROOT.TH1F(\"theta_x_e1\",\"theta_x_e1\",200,0,4)\n",
    "n2=ROOT.TH1F(\"phi_1_e1\",\"phi_1_e1\",200,0,4)\n",
    "n3=ROOT.TH1F(\"phi_2_e1\",\"phi_2_e1\",200,0,4)\n",
    "n4=ROOT.TH1F(\"theta_phi_1_e1\",\"theta_phi_1_e1\",200,0,4)\n",
    "n5=ROOT.TH1F(\"theta_phi_2_e1\",\"theta_phi_2_e1\",200,0,4)\n",
    "\n",
    "outpath=\"test.root\"\n",
    "\n",
    "path=\"./Reduce/\"\n",
    "paths=glob.glob(path+\"*root\")\n",
    "print(paths)\n",
    "rootpath=paths[0]\n",
    "f=ROOT.TFile(rootpath,\"r\")\n",
    "t=f.Get(\"nominal\")\n",
    "t.Show(1)\n",
    "N=t.GetEntries()\n",
    "for i in range(100):\n",
    "    t.GetEntry(i)\n",
    "    h1.Fill(t.theta_x)\n",
    "    h2.Fill(t.phi_1)\n",
    "    h3.Fill(t.phi_2)\n",
    "    h4.Fill(t.theta_phi_1)\n",
    "    h5.Fill(t.theta_phi_2)\n",
    "    if t.mc16a_trigger[0]==1:\n",
    "        i1.Fill(t.theta_x)\n",
    "        i2.Fill(t.phi_1)\n",
    "        i3.Fill(t.phi_2)\n",
    "        i4.Fill(t.theta_phi_1)\n",
    "        i5.Fill(t.theta_phi_2)\n",
    "    if t.mc16a_trigger[1]==1:\n",
    "        j1.Fill(t.theta_x)\n",
    "        j2.Fill(t.phi_1)\n",
    "        j3.Fill(t.phi_2)\n",
    "        j4.Fill(t.theta_phi_1)\n",
    "        j5.Fill(t.theta_phi_2)\n",
    "    if t.mc16a_trigger[2]==1 or t.mc16a_trigger[3]==1:\n",
    "        k1.Fill(t.theta_x)\n",
    "        k2.Fill(t.phi_1)\n",
    "        k3.Fill(t.phi_2)\n",
    "        k4.Fill(t.theta_phi_1)\n",
    "        k5.Fill(t.theta_phi_2)\n",
    "    if t.mc16a_trigger[4]==1:\n",
    "        l1.Fill(t.theta_x)\n",
    "        l2.Fill(t.phi_1)\n",
    "        l3.Fill(t.phi_2)\n",
    "        l4.Fill(t.theta_phi_1)\n",
    "        l5.Fill(t.theta_phi_2)\n",
    "    if t.mc16d_trigger[0]==1 or t.mc16d_trigger[1]==1 or t.mc16d_trigger[2]==1:\n",
    "        m1.Fill(t.theta_x)\n",
    "        m2.Fill(t.phi_1)\n",
    "        m3.Fill(t.phi_2)\n",
    "        m4.Fill(t.theta_phi_1)\n",
    "        m5.Fill(t.theta_phi_2)\n",
    "    if t.mc16e_trigger[0]==1 or t.mc16e_trigger[1]==1:\n",
    "        n1.Fill(t.theta_x)\n",
    "        n2.Fill(t.phi_1)\n",
    "        n3.Fill(t.phi_2)\n",
    "        n4.Fill(t.theta_phi_1)\n",
    "        n5.Fill(t.theta_phi_2)\n",
    "\n",
    "outFile = ROOT.TFile.Open(outpath,'UPDATE')\n",
    "outFile.cd()\n",
    "h1.Write(h1.GetName(),ROOT.TObject.kOverwrite)\n",
    "h2.Write(h2.GetName(),ROOT.TObject.kOverwrite)\n",
    "h3.Write(h3.GetName(),ROOT.TObject.kOverwrite)\n",
    "h4.Write(h4.GetName(),ROOT.TObject.kOverwrite)\n",
    "h5.Write(h5.GetName(),ROOT.TObject.kOverwrite)\n",
    "i1.Write(i1.GetName(),ROOT.TObject.kOverwrite)\n",
    "i2.Write(i2.GetName(),ROOT.TObject.kOverwrite)\n",
    "i3.Write(i3.GetName(),ROOT.TObject.kOverwrite)\n",
    "i4.Write(i4.GetName(),ROOT.TObject.kOverwrite)\n",
    "i5.Write(i5.GetName(),ROOT.TObject.kOverwrite)\n",
    "j1.Write(j1.GetName(),ROOT.TObject.kOverwrite)\n",
    "j2.Write(j2.GetName(),ROOT.TObject.kOverwrite)\n",
    "j3.Write(j3.GetName(),ROOT.TObject.kOverwrite)\n",
    "j4.Write(j4.GetName(),ROOT.TObject.kOverwrite)\n",
    "j5.Write(j5.GetName(),ROOT.TObject.kOverwrite)\n",
    "k1.Write(k1.GetName(),ROOT.TObject.kOverwrite)\n",
    "k2.Write(k2.GetName(),ROOT.TObject.kOverwrite)\n",
    "k3.Write(k3.GetName(),ROOT.TObject.kOverwrite)\n",
    "k4.Write(k4.GetName(),ROOT.TObject.kOverwrite)\n",
    "k5.Write(k5.GetName(),ROOT.TObject.kOverwrite)\n",
    "l1.Write(l1.GetName(),ROOT.TObject.kOverwrite)\n",
    "l2.Write(l2.GetName(),ROOT.TObject.kOverwrite)\n",
    "l3.Write(l3.GetName(),ROOT.TObject.kOverwrite)\n",
    "l4.Write(l4.GetName(),ROOT.TObject.kOverwrite)\n",
    "l5.Write(l5.GetName(),ROOT.TObject.kOverwrite)\n",
    "m1.Write(m1.GetName(),ROOT.TObject.kOverwrite)\n",
    "m2.Write(m2.GetName(),ROOT.TObject.kOverwrite)\n",
    "m3.Write(m3.GetName(),ROOT.TObject.kOverwrite)\n",
    "m4.Write(m4.GetName(),ROOT.TObject.kOverwrite)\n",
    "m5.Write(m5.GetName(),ROOT.TObject.kOverwrite)\n",
    "n1.Write(n1.GetName(),ROOT.TObject.kOverwrite)\n",
    "n2.Write(n2.GetName(),ROOT.TObject.kOverwrite)\n",
    "n3.Write(n3.GetName(),ROOT.TObject.kOverwrite)\n",
    "n4.Write(n4.GetName(),ROOT.TObject.kOverwrite)\n",
    "n5.Write(n5.GetName(),ROOT.TObject.kOverwrite)\n",
    "outFile.Close()\n",
    "f.Close()"
   ]
  },
  {
   "cell_type": "code",
   "execution_count": 7,
   "metadata": {},
   "outputs": [
    {
     "name": "stdout",
     "output_type": "stream",
     "text": [
      "['theta_x', 'phi_1', 'phi_2', 'theta_phi_1', 'theta_phi_2', 'theta_x_a1', 'phi_1_a1', 'phi_2_a1', 'theta_phi_1_a1', 'theta_phi_2_a1', 'theta_x_a2', 'phi_1_a2', 'phi_2_a2', 'theta_phi_1_a2', 'theta_phi_2_a2', 'theta_x_a3', 'phi_1_a3', 'phi_2_a3', 'theta_phi_1_a3', 'theta_phi_2_a3', 'theta_x_a4', 'phi_1_a4', 'phi_2_a4', 'theta_phi_1_a4', 'theta_phi_2_a4', 'theta_x_d1', 'phi_1_d1', 'phi_2_d1', 'theta_phi_1_d1', 'theta_phi_2_d1', 'theta_x_e1', 'phi_1_e1', 'phi_2_e1', 'theta_phi_1_e1', 'theta_phi_2_e1']\n"
     ]
    },
    {
     "name": "stderr",
     "output_type": "stream",
     "text": [
      "Warning in <TCanvas::Constructor>: Deleting canvas with same name: c1\n"
     ]
    },
    {
     "data": {
      "image/png": "[encoded data removed]",
      "text/plain": [
       "<IPython.core.display.Image object>"
      ]
     },
     "metadata": {},
     "output_type": "display_data"
    }
   ],
   "source": [
    "rootpath=\"./Reduce/hists_mc16a.root\"\n",
    "f=ROOT.TFile(rootpath,\"r\")\n",
    "hists=[]\n",
    "for i in f.GetListOfKeys():\n",
    "    hists.append(i.GetName())\n",
    "print(hists)\n",
    "h=f.Get(hists[0])\n",
    "c1=ROOT.TCanvas(\"c1\",\"c1\",100,0,900,700)\n",
    "c1.SetLeftMargin(0.12)\n",
    "c1.SetLogy()\n",
    "ROOT.gStyle.SetOptStat(0)\n",
    "h.Draw()\n",
    "#t1.Draw(\"truth_mass[0]\")\n",
    "c1.Draw()"
   ]
  },
  {
   "cell_type": "code",
   "execution_count": null,
   "metadata": {},
   "outputs": [],
   "source": []
  }
 ],
 "metadata": {
  "kernelspec": {
   "display_name": "PyROOT - Python3",
   "language": "python",
   "name": "pyroot3"
  },
  "language_info": {
   "codemirror_mode": {
    "name": "ipython",
    "version": 3
   },
   "file_extension": ".py",
   "mimetype": "text/x-python",
   "name": "python",
   "nbconvert_exporter": "python",
   "pygments_lexer": "ipython3",
   "version": "3.6.8"
  }
 },
 "nbformat": 4,
 "nbformat_minor": 4
}
