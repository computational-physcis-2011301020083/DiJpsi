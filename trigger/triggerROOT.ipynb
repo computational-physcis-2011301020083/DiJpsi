{
 "cells": [
  {
   "cell_type": "code",
   "execution_count": 2,
   "metadata": {},
   "outputs": [
    {
     "name": "stdout",
     "output_type": "stream",
     "text": [
      "Welcome to JupyROOT 6.18/00\n"
     ]
    }
   ],
   "source": [
    "import ROOT,glob,math,os\n",
    "from array import array"
   ]
  },
  {
   "cell_type": "code",
   "execution_count": 7,
   "metadata": {},
   "outputs": [
    {
     "name": "stdout",
     "output_type": "stream",
     "text": [
      "['./signal/sig_mc16a.root', './signal/sig_mc16e.root', './signal/sig_mc16d.root']\n"
     ]
    }
   ],
   "source": [
    "file1 = ROOT.TFile(\"test.root\", 'recreate')\n",
    "tree = ROOT.TTree(\"nominal\", \"Angle and trigger\")\n",
    "\n",
    "Theta_x  = array('f',[0])\n",
    "Phi_1  = array('f',[0])\n",
    "Phi_2  = array('f',[0])\n",
    "Theta_phi_1  = array('f',[0])\n",
    "Theta_phi_2  = array('f',[0])\n",
    "#HLT_2mu4_bJpsimumu,HLT_mu6_mu4_bJpsimumu\n",
    "#HLT_mu10_mu6_bJpsimumu or HLT_3mu6_bJpsi,HLT_3mu6_bJpsi\n",
    "mc16a_trigger  = array('f',[0,0,0,0,0])\n",
    "#HLT_3mu4_mu2noL1 or HLT_mu11_mu6_bJpsimumu or HLT_2mu6_bJpsimumu_*\n",
    "mc16d_trigger  = array('f',[0,0,0])\n",
    "#HLT_3mu4_bJpsi or HLT_mu11_mu6_bJpsimumu\n",
    "mc16e_trigger  = array('f',[0,0])\n",
    "\n",
    "tree.Branch(\"theta_x\",  Theta_x,  'theta_x/F')\n",
    "tree.Branch(\"phi_1\",  Phi_1,  'phi_1/F')\n",
    "tree.Branch(\"phi_2\", Phi_2, 'phi_2/F')\n",
    "tree.Branch(\"theta_phi_1\",  Theta_phi_1,  'theta_phi_1/F')\n",
    "tree.Branch(\"theta_phi_2\", Theta_phi_2, 'theta_phi_2/F')\n",
    "tree.Branch(\"mc16a_trigger\",  mc16a_trigger,  'mc16a_trigger[5]/F')\n",
    "tree.Branch(\"mc16d_trigger\", mc16d_trigger, 'mc16d_trigger[3]/F')\n",
    "tree.Branch(\"mc16e_trigger\",  mc16e_trigger,  'mc16e_trigger[2]/F')\n",
    "\n",
    "path=\"./signal/\"\n",
    "paths=glob.glob(path+\"*root\")\n",
    "print(paths)\n",
    "rootpath=paths[0]\n",
    "f=ROOT.TFile(rootpath,\"r\")\n",
    "hists=[]\n",
    "for i in f.GetListOfKeys():\n",
    "    hists.append(i.GetName())\n",
    "t=f.Get(\"BPHY13\")\n",
    "N=t.GetEntries()\n",
    "for i in range(100):\n",
    "    t.GetEntry(i)\n",
    "    mc16a_trigger[0]=t.pass_HLT_2mu4_bJpsimumu\n",
    "    mc16a_trigger[1]=t.pass_HLT_mu6_mu4_bJpsimumu\n",
    "    mc16a_trigger[2]=t.pass_HLT_mu10_mu6_bJpsimumu\n",
    "    mc16a_trigger[3]=t.pass_HLT_3mu6_bJpsi\n",
    "    mc16a_trigger[4]=t.pass_HLT_3mu6_bJpsi\n",
    "    mc16d_trigger[0]=t.pass_HLT_3mu4_mu2noL1\n",
    "    mc16d_trigger[1]=t.pass_HLT_mu11_mu6_bJpsimumu\n",
    "    mc16d_trigger[2]=t.pass_HLT_2mu6_bJpsimumu_\n",
    "    mc16e_trigger[0]=t.pass_HLT_3mu4_bJpsi\n",
    "    mc16e_trigger[1]=t.pass_HLT_mu11_mu6_bJpsimumu\n",
    "    muon_1=ROOT.TLorentzVector()\n",
    "    muon_2=ROOT.TLorentzVector()\n",
    "    muon_3=ROOT.TLorentzVector()\n",
    "    muon_4=ROOT.TLorentzVector()\n",
    "    jpsi_1=ROOT.TLorentzVector()\n",
    "    jpsi_2=ROOT.TLorentzVector()\n",
    "    x=ROOT.TLorentzVector()\n",
    "    #muon_1.SetPtEtaPhiE(t.muo_rf_pt[0],t.muo_rf_eta[0],t.muo_rf_phi[0],t.muo_rf_E[0])\n",
    "    #muon_2.SetPtEtaPhiE(t.muo_rf_pt[1],t.muo_rf_eta[1],t.muo_rf_phi[1],t.muo_rf_E[1])\n",
    "    #muon_3.SetPtEtaPhiE(t.muo_rf_pt[2],t.muo_rf_eta[2],t.muo_rf_phi[2],t.muo_rf_E[2])\n",
    "    #muon_4.SetPtEtaPhiE(t.muo_rf_pt[3],t.muo_rf_eta[3],t.muo_rf_phi[3],t.muo_rf_E[3])\n",
    "    #jpsi_1.SetPxPyPzE(t.jpsi_1[0],t.jpsi_1[1],t.jpsi_1[2],t.jpsi_1[3])\n",
    "    #jpsi_2.SetPxPyPzE(t.jpsi_2[0],t.jpsi_2[1],t.jpsi_2[2],t.jpsi_2[3])\n",
    "    #x.jpsi_2.SetPxPyPzE(t.jpsi_2[0],t.jpsi_2[1],t.jpsi_2[2],t.jpsi_2[3])\n",
    "    muon_1.SetPtEtaPhiE(t.muo_pt[0],t.muo_eta[0],t.muo_phi[0],t.muo_E[0])\n",
    "    muon_2.SetPtEtaPhiE(t.muo_pt[1],t.muo_eta[1],t.muo_phi[1],t.muo_E[1])\n",
    "    muon_3.SetPtEtaPhiE(t.muo_pt[2],t.muo_eta[2],t.muo_phi[2],t.muo_E[2])\n",
    "    muon_4.SetPtEtaPhiE(t.muo_pt[3],t.muo_eta[3],t.muo_phi[3],t.muo_E[3])\n",
    "    jpsi_1=muon_1+muon_2\n",
    "    jpsi_2=muon_3+muon_4\n",
    "    x=muon_1+muon_2+muon_3+muon_4\n",
    "    \n",
    "    #Compute phi1,phi2\n",
    "    p_muon_1=ROOT.Math.Plane3D.Point() \n",
    "    p_muon_1.SetXYZ(muon_1.Px(),muon_1.Py(),muon_1.Pz())\n",
    "    p_muon_2=ROOT.Math.Plane3D.Point() \n",
    "    p_muon_2.SetXYZ(muon_2.Px(),muon_2.Py(),muon_2.Pz())\n",
    "    p_muon_3=ROOT.Math.Plane3D.Point() \n",
    "    p_muon_3.SetXYZ(muon_3.Px(),muon_3.Py(),muon_3.Pz())\n",
    "    p_muon_4=ROOT.Math.Plane3D.Point() \n",
    "    p_muon_4.SetXYZ(muon_4.Px(),muon_4.Py(),muon_4.Pz())\n",
    "    p_jpsi_1=ROOT.Math.Plane3D.Point() \n",
    "    p_jpsi_1.SetXYZ(jpsi_1.Px(),jpsi_1.Py(),jpsi_1.Pz())\n",
    "    p_jpsi_2=ROOT.Math.Plane3D.Point() \n",
    "    p_jpsi_2.SetXYZ(jpsi_2.Px(),jpsi_2.Py(),jpsi_2.Pz())\n",
    "    p_zero=ROOT.Math.Plane3D.Point() \n",
    "    p_zero.SetXYZ(0.0,0.0,0.0)\n",
    "    muon_plane_12=ROOT.Math.Plane3D(p_zero,p_muon_1,p_muon_2)\n",
    "    muon_plane_34=ROOT.Math.Plane3D(p_zero,p_muon_3,p_muon_4)\n",
    "    jpsi_plane_12=ROOT.Math.Plane3D(p_zero,p_jpsi_1,p_jpsi_2)\n",
    "    muon_nvector_12=muon_plane_12.Normal()\n",
    "    muon_nvector_34=muon_plane_34.Normal()\n",
    "    jpsi_nvector_12=jpsi_plane_12.Normal()\n",
    "    \n",
    "    muon_nvector3_12=ROOT.TVector3()\n",
    "    muon_nvector3_12.SetXYZ(muon_nvector_12.X(),muon_nvector_12.Y(),muon_nvector_12.Z())\n",
    "    muon_nvector3_34=ROOT.TVector3()\n",
    "    muon_nvector3_34.SetXYZ(muon_nvector_34.X(),muon_nvector_34.Y(),muon_nvector_34.Z())\n",
    "    jpsi_nvector3_12=ROOT.TVector3()\n",
    "    jpsi_nvector3_12.SetXYZ(jpsi_nvector_12.X(),jpsi_nvector_12.Y(),jpsi_nvector_12.Z())\n",
    "    phi_1=jpsi_nvector3_12.Angle(muon_nvector3_12)\n",
    "    phi_2=jpsi_nvector3_12.Angle(muon_nvector3_34)  \n",
    "        \n",
    "    #Boost and compute theta_x\n",
    "    boost=-(muon_1+muon_2+muon_3+muon_4).BoostVector()\n",
    "    muon_1.Boost(boost)\n",
    "    muon_2.Boost(boost)\n",
    "    muon_3.Boost(boost)\n",
    "    muon_4.Boost(boost)\n",
    "    jpsi_1.Boost(boost)\n",
    "    jpsi_2.Boost(boost)\n",
    "    theta_x=x.Angle(jpsi_1.Vect())   \n",
    "    \n",
    "    #Boost and compute theta_phi_1\n",
    "    boost_12=-(muon_1+muon_2).BoostVector()\n",
    "    muon_1.Boost(boost_12)\n",
    "    muon_2.Boost(boost_12)\n",
    "    theta_phi_1=muon_1.Angle(jpsi_1.Vect())\n",
    "    \n",
    "    #Boost and compute theta_phi_2\n",
    "    boost_34=-(muon_3+muon_4).BoostVector()\n",
    "    muon_3.Boost(boost_34)\n",
    "    muon_4.Boost(boost_34)\n",
    "    theta_phi_2=muon_3.Angle(jpsi_2.Vect())\n",
    "    \n",
    "    Theta_x[0]=theta_x\n",
    "    Phi_1[0]=phi_1\n",
    "    Phi_2[0]=phi_2\n",
    "    Theta_phi_1[0]=theta_phi_1\n",
    "    Theta_phi_2[0]=theta_phi_2\n",
    "    \n",
    "    tree.Fill()\n",
    "file1.Write()\n",
    "file1.Close()\n",
    "f.Close()"
   ]
  },
  {
   "cell_type": "code",
   "execution_count": 3,
   "metadata": {},
   "outputs": [
    {
     "name": "stdout",
     "output_type": "stream",
     "text": [
      "nominal\n",
      "======> EVENT:79\n",
      " theta_x         = 0.274388\n",
      " phi_1           = 2.00971\n",
      " phi_2           = 0.577273\n",
      " theta_phi_1     = 1.49512\n",
      " theta_phi_2     = 1.93218\n",
      " mc16a_trigger   = 1, \n",
      "                  1, 0, 0, 0\n",
      " mc16d_trigger   = 0, \n",
      "                  0, 0\n",
      " mc16e_trigger   = 0, \n",
      "                  0\n"
     ]
    }
   ],
   "source": [
    "rootpath=\"./Reduce/sig_mc16a.root\"\n",
    "f=ROOT.TFile(rootpath,\"r\")\n",
    "hists=[]\n",
    "for i in f.GetListOfKeys():\n",
    "    print(i.GetName())\n",
    "    hists.append(i.GetName())\n",
    "t=f.Get(\"nominal\")\n",
    "t.Show(79)\n",
    "#for i in range(40,60):\n",
    "#    t.Show(i)\n"
   ]
  },
  {
   "cell_type": "code",
   "execution_count": 4,
   "metadata": {},
   "outputs": [
    {
     "data": {
      "image/png": "[encoded data removed]",
      "text/plain": [
       "<IPython.core.display.Image object>"
      ]
     },
     "metadata": {},
     "output_type": "display_data"
    }
   ],
   "source": [
    "c1=ROOT.TCanvas(\"c1\",\"c1\",100,0,900,700)\n",
    "c1.SetLeftMargin(0.12)\n",
    "#c1.SetLogy()\n",
    "ROOT.gStyle.SetOptStat(0)\n",
    "t.Draw(\"mc16a_trigger[0]\")\n",
    "c1.Draw()"
   ]
  },
  {
   "cell_type": "code",
   "execution_count": null,
   "metadata": {},
   "outputs": [],
   "source": []
  }
 ],
 "metadata": {
  "kernelspec": {
   "display_name": "PyROOT - Python3",
   "language": "python",
   "name": "pyroot3"
  },
  "language_info": {
   "codemirror_mode": {
    "name": "ipython",
    "version": 3
   },
   "file_extension": ".py",
   "mimetype": "text/x-python",
   "name": "python",
   "nbconvert_exporter": "python",
   "pygments_lexer": "ipython3",
   "version": "3.6.8"
  }
 },
 "nbformat": 4,
 "nbformat_minor": 4
}
