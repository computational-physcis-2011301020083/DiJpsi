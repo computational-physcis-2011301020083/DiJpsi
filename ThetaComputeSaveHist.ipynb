{
 "cells": [
  {
   "cell_type": "code",
   "execution_count": 4,
   "metadata": {},
   "outputs": [],
   "source": [
    "import ROOT,glob,math,os\n",
    "from array import array"
   ]
  },
  {
   "cell_type": "code",
   "execution_count": 5,
   "metadata": {},
   "outputs": [
    {
     "name": "stderr",
     "output_type": "stream",
     "text": [
      "Warning in <TROOT::Append>: Replacing existing TH1: theta_x (Potential memory leak).\n",
      "Warning in <TROOT::Append>: Replacing existing TH1: phi_1 (Potential memory leak).\n",
      "Warning in <TROOT::Append>: Replacing existing TH1: phi_2 (Potential memory leak).\n",
      "Warning in <TROOT::Append>: Replacing existing TH1: theta_phi_1 (Potential memory leak).\n",
      "Warning in <TROOT::Append>: Replacing existing TH1: theta_phi_2 (Potential memory leak).\n"
     ]
    }
   ],
   "source": [
    "h1=ROOT.TH1F(\"theta_x\",\"theta_x\",200,-3.2,3.2)\n",
    "h2=ROOT.TH1F(\"phi_1\",\"phi_1\",200,-3.2,3.2)\n",
    "h3=ROOT.TH1F(\"phi_2\",\"phi_2\",200,-3.2,3.2)\n",
    "h4=ROOT.TH1F(\"theta_phi_1\",\"theta_phi_1\",200,-3.2,3.2)\n",
    "h5=ROOT.TH1F(\"theta_phi_2\",\"theta_phi_2\",200,-3.2,3.2)"
   ]
  },
  {
   "cell_type": "code",
   "execution_count": 6,
   "metadata": {},
   "outputs": [
    {
     "name": "stdout",
     "output_type": "stream",
     "text": [
      "['./root/DPSMerge_data_cut0.root', './root/DPSMerge_data_cut2p5.root', './root/DPSMerge_data_cut3.root', './root/bbJJMerge_data_cut0.root', './root/bbJJMerge_data_cut6.root']\n",
      "./root/DPSMerge_data_cut0.root ./hist/DPSMerge_data_cut0.root\n"
     ]
    }
   ],
   "source": [
    "path=\"./root/\"\n",
    "paths=glob.glob(path+\"*root\")\n",
    "print(paths)\n",
    "rootpath=paths[0]\n",
    "\n",
    "outpath=rootpath.replace(\"/root\",\"/hist\")\n",
    "print(rootpath,outpath)\n",
    "\n",
    "\n",
    "f=ROOT.TFile(rootpath,\"r\")\n",
    "t=f.Get(\"nominal\")\n",
    "N=t.GetEntries()\n",
    "for i in range(N):\n",
    "    t.GetEntry(i)\n",
    "    \n",
    "    #给4个muon匹配，1和2匹配，3和4匹配\n",
    "    muon_1=ROOT.TLorentzVector()\n",
    "    muon_2=ROOT.TLorentzVector()\n",
    "    muon_3=ROOT.TLorentzVector()\n",
    "    muon_4=ROOT.TLorentzVector()\n",
    "    jpsi_1=ROOT.TLorentzVector()\n",
    "    jpsi_2=ROOT.TLorentzVector()\n",
    "    if t.match[0]==t.match[1]:\n",
    "        muon_1.SetPxPyPzE(t.muon_1[0],t.muon_1[1],t.muon_1[2],t.muon_1[3])\n",
    "        muon_2.SetPxPyPzE(t.muon_2[0],t.muon_2[1],t.muon_2[2],t.muon_2[3])\n",
    "        muon_3.SetPxPyPzE(t.muon_3[0],t.muon_3[1],t.muon_3[2],t.muon_3[3])\n",
    "        muon_4.SetPxPyPzE(t.muon_4[0],t.muon_4[1],t.muon_4[2],t.muon_4[3])\n",
    "        if abs((muon_1+muon_2).Px()-t.jpsi_1[0])<=1.:\n",
    "            jpsi_1.SetPxPyPzE(t.jpsi_1[0],t.jpsi_1[1],t.jpsi_1[2],t.jpsi_1[3])\n",
    "            jpsi_2.SetPxPyPzE(t.jpsi_2[0],t.jpsi_2[1],t.jpsi_2[2],t.jpsi_2[3])\n",
    "        else:\n",
    "            jpsi_1.SetPxPyPzE(t.jpsi_2[0],t.jpsi_2[1],t.jpsi_2[2],t.jpsi_2[3])\n",
    "            jpsi_2.SetPxPyPzE(t.jpsi_1[0],t.jpsi_1[1],t.jpsi_1[2],t.jpsi_1[3])\n",
    "    elif t.match[0]==t.match[2]:\n",
    "        muon_1.SetPxPyPzE(t.muon_1[0],t.muon_1[1],t.muon_1[2],t.muon_1[3])\n",
    "        muon_3.SetPxPyPzE(t.muon_2[0],t.muon_2[1],t.muon_2[2],t.muon_2[3])\n",
    "        muon_2.SetPxPyPzE(t.muon_3[0],t.muon_3[1],t.muon_3[2],t.muon_3[3])\n",
    "        muon_4.SetPxPyPzE(t.muon_4[0],t.muon_4[1],t.muon_4[2],t.muon_4[3])\n",
    "        if abs((muon_1+muon_2).Px()-t.jpsi_1[0])<=1.:\n",
    "            jpsi_1.SetPxPyPzE(t.jpsi_1[0],t.jpsi_1[1],t.jpsi_1[2],t.jpsi_1[3])\n",
    "            jpsi_2.SetPxPyPzE(t.jpsi_2[0],t.jpsi_2[1],t.jpsi_2[2],t.jpsi_2[3])\n",
    "        else:\n",
    "            jpsi_1.SetPxPyPzE(t.jpsi_2[0],t.jpsi_2[1],t.jpsi_2[2],t.jpsi_2[3])\n",
    "            jpsi_2.SetPxPyPzE(t.jpsi_1[0],t.jpsi_1[1],t.jpsi_1[2],t.jpsi_1[3])\n",
    "    else:\n",
    "        muon_1.SetPxPyPzE(t.muon_1[0],t.muon_1[1],t.muon_1[2],t.muon_1[3])\n",
    "        muon_3.SetPxPyPzE(t.muon_2[0],t.muon_2[1],t.muon_2[2],t.muon_2[3])\n",
    "        muon_4.SetPxPyPzE(t.muon_3[0],t.muon_3[1],t.muon_3[2],t.muon_3[3])\n",
    "        muon_2.SetPxPyPzE(t.muon_4[0],t.muon_4[1],t.muon_4[2],t.muon_4[3])\n",
    "        if abs((muon_1+muon_2).Px()-t.jpsi_1[0])<=1.:\n",
    "            jpsi_1.SetPxPyPzE(t.jpsi_1[0],t.jpsi_1[1],t.jpsi_1[2],t.jpsi_1[3])\n",
    "            jpsi_2.SetPxPyPzE(t.jpsi_2[0],t.jpsi_2[1],t.jpsi_2[2],t.jpsi_2[3])\n",
    "        else:\n",
    "            jpsi_1.SetPxPyPzE(t.jpsi_2[0],t.jpsi_2[1],t.jpsi_2[2],t.jpsi_2[3])\n",
    "            jpsi_2.SetPxPyPzE(t.jpsi_1[0],t.jpsi_1[1],t.jpsi_1[2],t.jpsi_1[3])\n",
    "    x=jpsi_1+jpsi_2\n",
    "    \n",
    "    #计算平面夹角phi1和phi2\n",
    "    p_muon_1=ROOT.Math.Plane3D.Point() \n",
    "    p_muon_1.SetXYZ(muon_1.Px(),muon_1.Py(),muon_1.Pz())\n",
    "    p_muon_2=ROOT.Math.Plane3D.Point() \n",
    "    p_muon_2.SetXYZ(muon_2.Px(),muon_2.Py(),muon_2.Pz())\n",
    "    p_muon_3=ROOT.Math.Plane3D.Point() \n",
    "    p_muon_3.SetXYZ(muon_3.Px(),muon_3.Py(),muon_3.Pz())\n",
    "    p_muon_4=ROOT.Math.Plane3D.Point() \n",
    "    p_muon_4.SetXYZ(muon_4.Px(),muon_4.Py(),muon_4.Pz())\n",
    "    p_jpsi_1=ROOT.Math.Plane3D.Point() \n",
    "    p_jpsi_1.SetXYZ(jpsi_1.Px(),jpsi_1.Py(),jpsi_1.Pz())\n",
    "    p_jpsi_2=ROOT.Math.Plane3D.Point() \n",
    "    p_jpsi_2.SetXYZ(jpsi_2.Px(),jpsi_2.Py(),jpsi_2.Pz())\n",
    "    p_zero=ROOT.Math.Plane3D.Point() \n",
    "    p_zero.SetXYZ(0.0,0.0,0.0)\n",
    "    muon_plane_12=ROOT.Math.Plane3D(p_zero,p_muon_1,p_muon_2)\n",
    "    muon_plane_34=ROOT.Math.Plane3D(p_zero,p_muon_3,p_muon_4)\n",
    "    jpsi_plane_12=ROOT.Math.Plane3D(p_zero,p_jpsi_1,p_jpsi_2)\n",
    "    muon_nvector_12=muon_plane_12.Normal()\n",
    "    muon_nvector_34=muon_plane_34.Normal()\n",
    "    jpsi_nvector_12=jpsi_plane_12.Normal()\n",
    "    \n",
    "    muon_nvector3_12=ROOT.TVector3()\n",
    "    muon_nvector3_12.SetXYZ(muon_nvector_12.X(),muon_nvector_12.Y(),muon_nvector_12.Z())\n",
    "    muon_nvector3_34=ROOT.TVector3()\n",
    "    muon_nvector3_34.SetXYZ(muon_nvector_34.X(),muon_nvector_34.Y(),muon_nvector_34.Z())\n",
    "    jpsi_nvector3_12=ROOT.TVector3()\n",
    "    jpsi_nvector3_12.SetXYZ(jpsi_nvector_12.X(),jpsi_nvector_12.Y(),jpsi_nvector_12.Z())\n",
    "    phi_1=jpsi_nvector3_12.Angle(muon_nvector3_12)\n",
    "    phi_2=jpsi_nvector3_12.Angle(muon_nvector3_34)\n",
    "    #print(\"Phi_12\",phi_1,phi_2)    \n",
    "        \n",
    "    #Boost到4个muon的质心系下面，并计算theta_x\n",
    "    #print(\"M_1\",muon_1.Px(),muon_1.Py(),muon_1.Pz())\n",
    "    #print(\"M_2\",muon_2.Px(),muon_2.Py(),muon_2.Pz())\n",
    "    #print(\"J_1\",jpsi_1.Px(),jpsi_1.Py(),jpsi_1.Pz())\n",
    "    #print(\"J_2\",jpsi_2.Px(),jpsi_2.Py(),jpsi_2.Pz())\n",
    "    boost=-(muon_1+muon_2+muon_3+muon_4).BoostVector()\n",
    "    muon_1.Boost(boost)\n",
    "    muon_2.Boost(boost)\n",
    "    muon_3.Boost(boost)\n",
    "    muon_4.Boost(boost)\n",
    "    jpsi_1.Boost(boost)\n",
    "    jpsi_2.Boost(boost)\n",
    "    theta_x=x.Angle(jpsi_1.Vect())\n",
    "    #print(\"Theta_X\",theta_x)\n",
    "    muon_RF=ROOT.TLorentzVector()\n",
    "    muon_RF=muon_1+ muon_2+ muon_3 + muon_4\n",
    "    #print(\"RF\",muon_RF.Px(),muon_RF.Py(),muon_RF.Pz())\n",
    "    #print(\"M_1\",muon_1.Px(),muon_1.Py(),muon_1.Pz())\n",
    "    #print(\"M_2\",muon_2.Px(),muon_2.Py(),muon_2.Pz())\n",
    "    #print(\"M_3\",muon_3.Px(),muon_3.Py(),muon_3.Pz())\n",
    "    #print(\"M_4\",muon_4.Px(),muon_4.Py(),muon_4.Pz())\n",
    "    #print(\"J_1\",jpsi_1.Px(),jpsi_1.Py(),jpsi_1.Pz())\n",
    "    #print(\"J_2\",jpsi_2.Px(),jpsi_2.Py(),jpsi_2.Pz())\n",
    "    \n",
    "    \n",
    "    #Boost到12的CM，计算theta_phi_1\n",
    "    boost_12=-(muon_1+muon_2).BoostVector()\n",
    "    muon_1.Boost(boost_12)\n",
    "    muon_2.Boost(boost_12)\n",
    "    #print(\"M_1\",muon_1.Px(),muon_1.Py(),muon_1.Pz())\n",
    "    #print(\"M_2\",muon_2.Px(),muon_2.Py(),muon_2.Pz())\n",
    "    theta_phi_1=muon_1.Angle(jpsi_1.Vect())\n",
    "    \n",
    "    #Boost到34的CM，计算theta_phi_2\n",
    "    boost_34=-(muon_3+muon_4).BoostVector()\n",
    "    muon_3.Boost(boost_34)\n",
    "    muon_4.Boost(boost_34)\n",
    "    #print(\"M_3\",muon_3.Px(),muon_3.Py(),muon_3.Pz())\n",
    "    #print(\"M_4\",muon_4.Px(),muon_4.Py(),muon_4.Pz())\n",
    "    theta_phi_2=muon_3.Angle(jpsi_2.Vect())\n",
    "    #print(\"Theta_phi_12\",theta_phi_1,theta_phi_2)\n",
    "    \n",
    "    h1.Fill(theta_x)\n",
    "    h2.Fill(phi_1)\n",
    "    h3.Fill(phi_2)\n",
    "    h4.Fill(theta_phi_1)\n",
    "    h5.Fill(theta_phi_2)\n",
    "    \n",
    "outFile = ROOT.TFile.Open(outpath,'UPDATE')\n",
    "outFile.cd()\n",
    "h1.Write(h1.GetName(),ROOT.TObject.kOverwrite)\n",
    "h2.Write(h2.GetName(),ROOT.TObject.kOverwrite)\n",
    "h3.Write(h3.GetName(),ROOT.TObject.kOverwrite)\n",
    "h4.Write(h4.GetName(),ROOT.TObject.kOverwrite)\n",
    "h5.Write(h5.GetName(),ROOT.TObject.kOverwrite)\n",
    "outFile.Close()\n",
    "f.Close()"
   ]
  },
  {
   "cell_type": "code",
   "execution_count": 12,
   "metadata": {},
   "outputs": [
    {
     "name": "stdout",
     "output_type": "stream",
     "text": [
      "theta_x\n",
      "phi_1\n",
      "phi_2\n",
      "theta_phi_1\n",
      "theta_phi_2\n"
     ]
    }
   ],
   "source": [
    "path1=\"./hist/DPSMerge_data_cut0.root\"\n",
    "f1=ROOT.TFile(path1,\"r\")\n",
    "hists=[]\n",
    "for i in f1.GetListOfKeys():\n",
    "    print(i.GetName())\n",
    "    hists.append(i.GetName())"
   ]
  },
  {
   "cell_type": "code",
   "execution_count": 16,
   "metadata": {},
   "outputs": [
    {
     "name": "stderr",
     "output_type": "stream",
     "text": [
      "Warning in <TCanvas::Constructor>: Deleting canvas with same name: c1\n"
     ]
    },
    {
     "data": {
      "image/png": "[encoded data removed]",
      "text/plain": [
       "<IPython.core.display.Image object>"
      ]
     },
     "metadata": {},
     "output_type": "display_data"
    }
   ],
   "source": [
    "h1=f1.Get(hists[4])\n",
    "c1=ROOT.TCanvas(\"c1\",\"c1\",100,0,900,700)\n",
    "c1.SetLogy()\n",
    "ROOT.gStyle.SetOptStat(0)\n",
    "h1.Draw()\n",
    "c1.Draw()"
   ]
  },
  {
   "cell_type": "code",
   "execution_count": null,
   "metadata": {},
   "outputs": [],
   "source": []
  }
 ],
 "metadata": {
  "kernelspec": {
   "display_name": "Python 3",
   "language": "python",
   "name": "python3"
  },
  "language_info": {
   "codemirror_mode": {
    "name": "ipython",
    "version": 3
   },
   "file_extension": ".py",
   "mimetype": "text/x-python",
   "name": "python",
   "nbconvert_exporter": "python",
   "pygments_lexer": "ipython3",
   "version": "3.7.6"
  }
 },
 "nbformat": 4,
 "nbformat_minor": 4
}
