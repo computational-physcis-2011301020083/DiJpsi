{
 "cells": [
  {
   "cell_type": "code",
   "execution_count": 2,
   "metadata": {},
   "outputs": [
    {
     "name": "stdout",
     "output_type": "stream",
     "text": [
      "Welcome to JupyROOT 6.18/00\n"
     ]
    }
   ],
   "source": [
    "import ROOT,os,glob,math"
   ]
  },
  {
   "cell_type": "code",
   "execution_count": 58,
   "metadata": {},
   "outputs": [
    {
     "name": "stdout",
     "output_type": "stream",
     "text": [
      "3.141592653589793\n",
      "['./bbJJMerge/bbJJMerge_km_cut0.root', './bbJJMerge/bbJJMerge_km_cut4.root']\n",
      "pt(b/bbar)>0,pTHatMin=0 pt(b/bbar)>4,pTHatMin=6 ['x_mass', 'muon_1_pt', 'muon_2_pt', 'muon_3_pt', 'muon_4_pt', 'jpsi_1_pt', 'jpsi_2_pt', 'muon_1_eta', 'muon_2_eta', 'muon_3_eta', 'muon_4_eta', 'jpsi_1_eta', 'jpsi_2_eta'] 13\n",
      "jpsi_2_eta\n"
     ]
    },
    {
     "name": "stderr",
     "output_type": "stream",
     "text": [
      "Warning in <TH1F::Rebin>: ngroup=3 is not an exact divider of nbins=200.\n",
      "Warning in <TH1F::Rebin>: ngroup=3 is not an exact divider of nbins=200.\n",
      "Warning in <TCanvas::Constructor>: Deleting canvas with same name: c1\n",
      "Info in <TCanvas::Print>: jpg file figures0831/bbJJ_jpsi_2_eta.jpg has been created\n",
      "Info in <TCanvas::Print>: pdf file figures0831/bbJJ_jpsi_2_eta.pdf has been created\n"
     ]
    },
    {
     "data": {
      "image/png": "[encoded data removed]",
      "text/plain": [
       "<IPython.core.display.Image object>"
      ]
     },
     "metadata": {},
     "output_type": "display_data"
    }
   ],
   "source": [
    "key=\"bbJJ\"\n",
    "#key=\"Bmumu\"\n",
    "#key=\"Jmumu\"\n",
    "\n",
    "pi=ROOT.TMath.Pi()\n",
    "print(pi)\n",
    "path=\"./\"+key+\"Merge/\"\n",
    "paths=glob.glob(path+key+\"*km*root\")\n",
    "print(paths)\n",
    "f1=ROOT.TFile(paths[0],\"r\")\n",
    "f2=ROOT.TFile(paths[1],\"r\")\n",
    "#Legend\n",
    "if key==\"bbJJ\":\n",
    "    if \"cut0\" in paths[0]:\n",
    "        cut1=\"pt(b/bbar)>0,pTHatMin=0\"\n",
    "        cut2=\"pt(b/bbar)>4,pTHatMin=6\"\n",
    "    else:\n",
    "        cut2=\"pt(b/bbar)>0,pTHatMin=0\"\n",
    "        cut1=\"pt(b/bbar)>4,pTHatMin=6\"\n",
    "if key==\"Bmumu\":\n",
    "    if \"cut0\" in paths[0]:\n",
    "        cut1=\"pt(b/bbar)>0,pTHatMin=0\"\n",
    "        cut2=\"pt(b/bbar)>5,pTHatMin=7\"\n",
    "    else:\n",
    "        cut2=\"pt(b/bbar)>0,pTHatMin=0\"\n",
    "        cut1=\"pt(b/bbar)>5,pTHatMin=7\"\n",
    "if key==\"Jmumu\":\n",
    "    if \"cut0\" in paths[0]:\n",
    "        cut1=\"pt(b/bbar)>0,pTHatMin=0\"\n",
    "        cut2=\"pt(b/bbar)>7,pTHatMin=7\"\n",
    "    else:\n",
    "        cut2=\"pt(b/bbar)>0,pTHatMin=0\"\n",
    "        cut1=\"pt(b/bbar)>7,pTHatMin=7\"\n",
    "anglelist=[]\n",
    "for i in f1.GetListOfKeys():\n",
    "    anglelist.append(i.GetName())\n",
    "print(cut1,cut2,anglelist,len(anglelist))\n",
    "hist=anglelist[12]\n",
    "print(hist)\n",
    "h1=f1.Get(hist)\n",
    "h2=f2.Get(hist)\n",
    "rebin=3\n",
    "h1.Rebin(rebin)\n",
    "h2.Rebin(rebin)\n",
    "h1.Scale(1/h1.Integral())\n",
    "h2.Scale(1/h2.Integral())\n",
    "h1.GetXaxis().SetRangeUser(-pi,pi)\n",
    "#h1.GetXaxis().SetRangeUser(0,60)\n",
    "h1.SetNameTitle(\"\",key)\n",
    "#h1.GetXaxis().SetTitle(\"m_{#mu^{+}#mu^{-}#mu^{+}#mu^{-}}[GeV]\")\n",
    "#h1.GetXaxis().SetTitle(\"1st #mu p_{T}[GeV]\")\n",
    "#h1.GetXaxis().SetTitle(\"2nd #mu p_{T}[GeV]\")\n",
    "#h1.GetXaxis().SetTitle(\"3rd #mu p_{T}[GeV]\")\n",
    "#h1.GetXaxis().SetTitle(\"4st #mu p_{T}[GeV]\")\n",
    "#h1.GetXaxis().SetTitle(\"1st J/#psi p_{T}[GeV]\")\n",
    "#h1.GetXaxis().SetTitle(\"2nd J/#psi p_{T}[GeV]\")\n",
    "#h1.GetXaxis().SetTitle(\"1st #mu #eta\")\n",
    "#h1.GetXaxis().SetTitle(\"2nd #mu #eta\")\n",
    "#h1.GetXaxis().SetTitle(\"3rd #mu #eta\")\n",
    "#h1.GetXaxis().SetTitle(\"4st #mu #eta\")\n",
    "#h1.GetXaxis().SetTitle(\"1st J/#psi #eta\")\n",
    "h1.GetXaxis().SetTitle(\"2nd J/#psi #eta\")\n",
    "h1.GetYaxis().SetTitle(\"Evnets Frac.\")\n",
    "h1.SetLineColor(2)\n",
    "h2.SetLineColor(1)\n",
    "c1=ROOT.TCanvas(\"c1\",\"c1\",100,0,900,700)\n",
    "#c1.SetLogy()\n",
    "c1.SetLeftMargin(0.12)\n",
    "#print(c1.GetLeftMargin())\n",
    "ROOT.gStyle.SetOptStat(0)\n",
    "h1.Draw(\"hist e\")\n",
    "h2.Draw(\"same hist e\")\n",
    "#t=ROOT.TLegend(0.5,0.75,0.6,0.85)\n",
    "#t=ROOT.TLegend(0.4,0.7,0.5,0.8)\n",
    "#t=ROOT.TLegend(0.4,0.4,0.5,0.5)\n",
    "t=ROOT.TLegend(0.35,0.15,0.45,0.25)\n",
    "t.AddEntry(h1,cut1,\"l\")\n",
    "t.AddEntry(h2,cut2,\"lp\")\n",
    "t.SetBorderSize(0)\n",
    "t.SetTextSize(0.03)\n",
    "t.Draw()\n",
    "c1.Draw()\n",
    "name=key+\"_\"+hist\n",
    "c1.SaveAs(\"figures0831/\"+name+\".jpg\")\n",
    "c1.SaveAs(\"figures0831/\"+name+\".pdf\")"
   ]
  },
  {
   "cell_type": "code",
   "execution_count": null,
   "metadata": {},
   "outputs": [],
   "source": []
  }
 ],
 "metadata": {
  "kernelspec": {
   "display_name": "PyROOT - Python3",
   "language": "python",
   "name": "pyroot3"
  },
  "language_info": {
   "codemirror_mode": {
    "name": "ipython",
    "version": 3
   },
   "file_extension": ".py",
   "mimetype": "text/x-python",
   "name": "python",
   "nbconvert_exporter": "python",
   "pygments_lexer": "ipython3",
   "version": "3.6.8"
  }
 },
 "nbformat": 4,
 "nbformat_minor": 4
}
