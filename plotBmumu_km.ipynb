{
 "cells": [
  {
   "cell_type": "code",
   "execution_count": 2,
   "metadata": {},
   "outputs": [
    {
     "name": "stdout",
     "output_type": "stream",
     "text": [
      "Welcome to JupyROOT 6.18/00\n"
     ]
    }
   ],
   "source": [
    "import ROOT,os,glob,math"
   ]
  },
  {
   "cell_type": "code",
   "execution_count": 29,
   "metadata": {},
   "outputs": [
    {
     "name": "stdout",
     "output_type": "stream",
     "text": [
      "3.141592653589793\n",
      "['./hist/BmumuMerge_data_cut7_km.root', './hist/BmumuMerge_data_cut0_km.root']\n",
      "pt(b/bbar)>5,pTHatMin=7 pt(b/bbar)>0,pTHatMin=0 ['x_mass', 'muon_1_pt', 'muon_2_pt', 'muon_3_pt', 'muon_4_pt', 'muon_1_eta', 'muon_2_eta', 'muon_3_eta', 'muon_4_eta']\n",
      "x_mass\n"
     ]
    },
    {
     "name": "stderr",
     "output_type": "stream",
     "text": [
      "Warning in <TCanvas::Constructor>: Deleting canvas with same name: c1\n",
      "Info in <TCanvas::Print>: jpg file figures/Bmumu_x_mass.jpg has been created\n",
      "Info in <TCanvas::Print>: pdf file figures/Bmumu_x_mass.pdf has been created\n"
     ]
    },
    {
     "data": {
      "image/png": "[encoded data removed]",
      "text/plain": [
       "<IPython.core.display.Image object>"
      ]
     },
     "metadata": {},
     "output_type": "display_data"
    }
   ],
   "source": [
    "pi=ROOT.TMath.Pi()\n",
    "print(pi)\n",
    "path=\"./hist/\"\n",
    "paths=glob.glob(path+\"Bmumu*_km.root\")\n",
    "print(paths)\n",
    "f1=ROOT.TFile(paths[0],\"r\")\n",
    "f2=ROOT.TFile(paths[1],\"r\")\n",
    "cut1=paths[0].split(\"_\")[-2].split(\".\")[0].replace(\"cut0\",\"pt(b/bbar)>0,pTHatMin=0\").replace(\"cut7\",\"pt(b/bbar)>5,pTHatMin=7\")\n",
    "cut2=paths[1].split(\"_\")[-2].split(\".\")[0].replace(\"cut7\",\"pt(b/bbar)>5,pTHatMin=7\").replace(\"cut0\",\"pt(b/bbar)>0,pTHatMin=0\")\n",
    "anglelist=[]\n",
    "for i in f1.GetListOfKeys():\n",
    "    anglelist.append(i.GetName())\n",
    "print(cut1,cut2,anglelist)\n",
    "hist=anglelist[0]\n",
    "print(hist)\n",
    "h1=f1.Get(hist)\n",
    "h2=f2.Get(hist)\n",
    "h1.Rebin(2)\n",
    "h2.Rebin(2)\n",
    "h1.Scale(1/h1.Integral())\n",
    "h2.Scale(1/h2.Integral())\n",
    "#h1.GetXaxis().SetRangeUser(-pi,pi)\n",
    "h1.GetXaxis().SetRangeUser(0,16)\n",
    "h1.SetNameTitle(\"\",\"Bmumu\")\n",
    "h1.GetXaxis().SetTitle(\"m_{#mu^{+}#mu^{-}#mu^{+}#mu^{-}}[GeV]\")\n",
    "#h1.GetXaxis().SetTitle(\"1st #mu p_{T}[GeV]\")\n",
    "#h1.GetXaxis().SetTitle(\"2nd #mu p_{T}[GeV]\")\n",
    "#h1.GetXaxis().SetTitle(\"3rd #mu p_{T}[GeV]\")\n",
    "#h1.GetXaxis().SetTitle(\"4st #mu p_{T}[GeV]\")\n",
    "#h1.GetXaxis().SetTitle(\"1st J/#psi p_{T}[GeV]\")\n",
    "#h1.GetXaxis().SetTitle(\"2nd J/#psi p_{T}[GeV]\")\n",
    "#h1.GetXaxis().SetTitle(\"1st #mu #eta\")\n",
    "#h1.GetXaxis().SetTitle(\"2nd #mu #eta\")\n",
    "#h1.GetXaxis().SetTitle(\"3rd #mu #eta\")\n",
    "#h1.GetXaxis().SetTitle(\"4st #mu #eta\")\n",
    "#h1.GetXaxis().SetTitle(\"1st J/#psi #eta\")\n",
    "#h1.GetXaxis().SetTitle(\"2nd J/#psi #eta\")\n",
    "h1.GetYaxis().SetTitle(\"Evnets Frac.\")\n",
    "h1.SetLineColor(2)\n",
    "h2.SetLineColor(1)\n",
    "c1=ROOT.TCanvas(\"c1\",\"c1\",100,0,900,700)\n",
    "#c1.SetLogy()\n",
    "c1.SetLeftMargin(0.12)\n",
    "#print(c1.GetLeftMargin())\n",
    "ROOT.gStyle.SetOptStat(0)\n",
    "h1.Draw(\"hist e\")\n",
    "h2.Draw(\"same hist e\")\n",
    "t=ROOT.TLegend(0.5,0.75,0.6,0.85)\n",
    "#t=ROOT.TLegend(0.4,0.7,0.5,0.8)\n",
    "#t=ROOT.TLegend(0.4,0.4,0.5,0.5)\n",
    "#t=ROOT.TLegend(0.35,0.15,0.45,0.25)\n",
    "t.AddEntry(h1,cut1,\"l\")\n",
    "t.AddEntry(h2,cut2,\"lp\")\n",
    "t.SetBorderSize(0)\n",
    "t.SetTextSize(0.03)\n",
    "t.Draw()\n",
    "c1.Draw()\n",
    "name=\"Bmumu_\"+hist\n",
    "c1.SaveAs(\"figures/\"+name+\".jpg\")\n",
    "c1.SaveAs(\"figures/\"+name+\".pdf\")"
   ]
  },
  {
   "cell_type": "code",
   "execution_count": null,
   "metadata": {},
   "outputs": [],
   "source": []
  }
 ],
 "metadata": {
  "kernelspec": {
   "display_name": "PyROOT - Python3",
   "language": "python",
   "name": "pyroot3"
  },
  "language_info": {
   "codemirror_mode": {
    "name": "ipython",
    "version": 3
   },
   "file_extension": ".py",
   "mimetype": "text/x-python",
   "name": "python",
   "nbconvert_exporter": "python",
   "pygments_lexer": "ipython3",
   "version": "3.6.8"
  }
 },
 "nbformat": 4,
 "nbformat_minor": 4
}
