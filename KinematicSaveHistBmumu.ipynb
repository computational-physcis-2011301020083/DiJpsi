{
 "cells": [
  {
   "cell_type": "code",
   "execution_count": 1,
   "metadata": {},
   "outputs": [
    {
     "name": "stdout",
     "output_type": "stream",
     "text": [
      "Welcome to JupyROOT 6.18/00\n"
     ]
    }
   ],
   "source": [
    "import ROOT,glob,math,os\n",
    "from array import array"
   ]
  },
  {
   "cell_type": "code",
   "execution_count": 2,
   "metadata": {},
   "outputs": [
    {
     "name": "stdout",
     "output_type": "stream",
     "text": [
      "test1.root\n",
      "7.204453195217801 5.868789036377343 4.793652164479353 2.7660795655577863 17.835560104778335\n",
      "12.564430424802891 4.355689960300066 3.9204880036735403 2.4678356515515283 17.26943550351492\n",
      "13.763797380731829 9.802498143140829 9.089768632520217 6.859865932134094 40.06392295191519\n",
      "8.015468625600699 6.880025465980136 5.329167321888412 4.593880745705922 39.61204095483484\n",
      "13.765893793225628 7.324261012555268 4.696817392941394 2.842659950675153 36.1808128305195\n",
      "6.892490308914443 6.767078619395861 3.614366179157137 3.2385886420717664 24.26228629998946\n",
      "6.1498574715045 5.388340978613969 5.252108632214468 2.0977424088264662 19.431422302169178\n",
      "7.159169059814274 6.465173698564654 3.0767157588502334 2.0281970076573232 23.775378072345003\n",
      "5.514734601674989 5.096989957580351 3.829491626996822 3.0482496856401653 11.100850775672807\n",
      "11.388059715501745 8.396912365615442 3.8978813960678043 3.162521550613471 27.935728999296146\n"
     ]
    }
   ],
   "source": [
    "pi=ROOT.TMath.Pi()\n",
    "path=\"./BmumuMerge/\"\n",
    "paths=glob.glob(path+\"*root\")\n",
    "rootpath=paths[0]\n",
    "outpath=\"test1.root\"\n",
    "#outpath=rootpath.replace(\"/root\",\"/hist\").replace(\".root\",\"_km.root\")\n",
    "print(outpath)\n",
    "\n",
    "hx=ROOT.TH1F(\"x_mass\",\"x_mass\",200,0,20)\n",
    "hp1=ROOT.TH1F(\"muon_1_pt\",\"muon_1_pt\",200,0,50)\n",
    "hp2=ROOT.TH1F(\"muon_2_pt\",\"muon_2_pt\",200,0,50)\n",
    "hp3=ROOT.TH1F(\"muon_3_pt\",\"muon_3_pt\",200,0,50)\n",
    "hp4=ROOT.TH1F(\"muon_4_pt\",\"muon_4_pt\",200,0,50)\n",
    "#hp5=ROOT.TH1F(\"jpsi_1_pt\",\"jpsi_1_pt\",200,0,80)\n",
    "#hp6=ROOT.TH1F(\"jpsi_2_pt\",\"jpsi_2_pt\",200,0,80)\n",
    "he1=ROOT.TH1F(\"muon_1_eta\",\"muon_1_eta\",200,-pi,pi)\n",
    "he2=ROOT.TH1F(\"muon_2_eta\",\"muon_2_eta\",200,-pi,pi)\n",
    "he3=ROOT.TH1F(\"muon_3_eta\",\"muon_3_eta\",200,-pi,pi)\n",
    "he4=ROOT.TH1F(\"muon_4_eta\",\"muon_4_eta\",200,-pi,pi)\n",
    "#he5=ROOT.TH1F(\"jpsi_1_eta\",\"jpsi_1_eta\",200,-pi,pi)\n",
    "#he6=ROOT.TH1F(\"jpsi_2_eta\",\"jpsi_2_eta\",200,-pi,pi)\n",
    "\n",
    "f=ROOT.TFile(rootpath,\"r\")\n",
    "t=f.Get(\"nominal\")\n",
    "N=t.GetEntries()\n",
    "for i in range(10):\n",
    "    t.GetEntry(i)\n",
    "    #Match\n",
    "    muon_1=ROOT.TLorentzVector()\n",
    "    muon_2=ROOT.TLorentzVector()\n",
    "    muon_3=ROOT.TLorentzVector()\n",
    "    muon_4=ROOT.TLorentzVector()\n",
    "    #jpsi_1=ROOT.TLorentzVector()\n",
    "    #jpsi_2=ROOT.TLorentzVector()\n",
    "    muon_1.SetPxPyPzE(t.muon_1[0],t.muon_1[1],t.muon_1[2],t.muon_1[3])\n",
    "    muon_2.SetPxPyPzE(t.muon_2[0],t.muon_2[1],t.muon_2[2],t.muon_2[3])\n",
    "    muon_3.SetPxPyPzE(t.muon_3[0],t.muon_3[1],t.muon_3[2],t.muon_3[3])\n",
    "    muon_4.SetPxPyPzE(t.muon_4[0],t.muon_4[1],t.muon_4[2],t.muon_4[3])\n",
    "    #jpsi_1.SetPxPyPzE(t.jpsi_1[0],t.jpsi_1[1],t.jpsi_1[2],t.jpsi_1[3])\n",
    "    #jpsi_2.SetPxPyPzE(t.jpsi_2[0],t.jpsi_2[1],t.jpsi_2[2],t.jpsi_2[3])\n",
    "    \n",
    "    muon_1_pt_eta=[muon_1.Pt()/1000.0,muon_1.Eta()]\n",
    "    muon_2_pt_eta=[muon_2.Pt()/1000.0,muon_2.Eta()]\n",
    "    muon_3_pt_eta=[muon_3.Pt()/1000.0,muon_3.Eta()]\n",
    "    muon_4_pt_eta=[muon_4.Pt()/1000.0,muon_4.Eta()]\n",
    "    #jpsi_1_pt_eta=[jpsi_1.Pt()/1000.0,jpsi_1.Eta()]\n",
    "    #jpsi_2_pt_eta=[jpsi_2.Pt()/1000.0,jpsi_2.Eta()]\n",
    "    muon_list=[muon_1_pt_eta,muon_2_pt_eta,muon_3_pt_eta,muon_4_pt_eta]\n",
    "    #print(muon_list)\n",
    "    muon_list=sorted(muon_list)\n",
    "    #print(muon_list)\n",
    "    muon_1_pt=muon_list[3][0]\n",
    "    muon_2_pt=muon_list[2][0]\n",
    "    muon_3_pt=muon_list[1][0]\n",
    "    muon_4_pt=muon_list[0][0]\n",
    "    muon_1_eta=muon_list[3][1]\n",
    "    muon_2_eta=muon_list[2][1]\n",
    "    muon_3_eta=muon_list[1][1]\n",
    "    muon_4_eta=muon_list[0][1]\n",
    "    #jpsi_list=[jpsi_1_pt_eta,jpsi_2_pt_eta]\n",
    "    #jpsi_list=sorted(jpsi_list)\n",
    "    #jpsi_1_pt=jpsi_list[1][0]\n",
    "    #jpsi_2_pt=jpsi_list[0][0]\n",
    "    #jpsi_1_eta=jpsi_list[1][1]\n",
    "    #jpsi_2_eta=jpsi_list[0][1]\n",
    "    \n",
    "    x_mass=(muon_1+muon_2+muon_3+muon_4).M()/1000.0\n",
    "    print(muon_1_pt,muon_2_pt,muon_3_pt,muon_4_pt,x_mass)\n",
    "    hp1.Fill(muon_1_pt)\n",
    "    hp2.Fill(muon_2_pt)\n",
    "    hp3.Fill(muon_3_pt)\n",
    "    hp4.Fill(muon_4_pt)\n",
    "    #hp5.Fill(jpsi_1_pt)\n",
    "    #hp6.Fill(jpsi_2_pt)\n",
    "    he1.Fill(muon_1_eta)\n",
    "    he2.Fill(muon_2_eta)\n",
    "    he3.Fill(muon_3_eta)\n",
    "    he4.Fill(muon_4_eta)\n",
    "    #he5.Fill(jpsi_1_eta)\n",
    "    #he6.Fill(jpsi_2_eta)\n",
    "    hx.Fill(x_mass)\n",
    "\n",
    "outFile = ROOT.TFile.Open(outpath,'UPDATE')\n",
    "outFile.cd()\n",
    "hx.Write(hx.GetName(),ROOT.TObject.kOverwrite)\n",
    "hp1.Write(hp1.GetName(),ROOT.TObject.kOverwrite)\n",
    "hp2.Write(hp2.GetName(),ROOT.TObject.kOverwrite)\n",
    "hp3.Write(hp3.GetName(),ROOT.TObject.kOverwrite)\n",
    "hp4.Write(hp4.GetName(),ROOT.TObject.kOverwrite)\n",
    "#hp5.Write(hp5.GetName(),ROOT.TObject.kOverwrite)\n",
    "#hp6.Write(hp6.GetName(),ROOT.TObject.kOverwrite)\n",
    "he1.Write(he1.GetName(),ROOT.TObject.kOverwrite)\n",
    "he2.Write(he2.GetName(),ROOT.TObject.kOverwrite)\n",
    "he3.Write(he3.GetName(),ROOT.TObject.kOverwrite)\n",
    "he4.Write(he4.GetName(),ROOT.TObject.kOverwrite)\n",
    "#he5.Write(he5.GetName(),ROOT.TObject.kOverwrite)\n",
    "#he6.Write(he6.GetName(),ROOT.TObject.kOverwrite)\n",
    "outFile.Close()\n",
    "f.Close()"
   ]
  },
  {
   "cell_type": "code",
   "execution_count": 48,
   "metadata": {},
   "outputs": [
    {
     "name": "stdout",
     "output_type": "stream",
     "text": [
      "x_mass\n",
      "muon_1_pt\n",
      "muon_2_pt\n",
      "muon_3_pt\n",
      "muon_4_pt\n",
      "jpsi_1_pt\n",
      "jpsi_2_pt\n",
      "muon_1_eta\n",
      "muon_2_eta\n",
      "muon_3_eta\n",
      "muon_4_eta\n",
      "jpsi_1_eta\n",
      "jpsi_2_eta\n"
     ]
    }
   ],
   "source": [
    "path1=\"test.root\"\n",
    "f1=ROOT.TFile(path1,\"r\")\n",
    "hists=[]\n",
    "for i in f1.GetListOfKeys():\n",
    "    print(i.GetName())\n",
    "    hists.append(i.GetName())"
   ]
  },
  {
   "cell_type": "code",
   "execution_count": 53,
   "metadata": {},
   "outputs": [
    {
     "name": "stderr",
     "output_type": "stream",
     "text": [
      "Warning in <TCanvas::Constructor>: Deleting canvas with same name: c1\n"
     ]
    },
    {
     "data": {
      "image/png": "[encoded data removed]",
      "text/plain": [
       "<IPython.core.display.Image object>"
      ]
     },
     "metadata": {},
     "output_type": "display_data"
    }
   ],
   "source": [
    "h1=f1.Get(hists[7])\n",
    "c1=ROOT.TCanvas(\"c1\",\"c1\",100,0,900,700)\n",
    "c1.SetLogy()\n",
    "ROOT.gStyle.SetOptStat(0)\n",
    "#h1.Rebin(2)\n",
    "h1.Draw()\n",
    "c1.Draw()"
   ]
  },
  {
   "cell_type": "code",
   "execution_count": 40,
   "metadata": {},
   "outputs": [
    {
     "name": "stdout",
     "output_type": "stream",
     "text": [
      "[[54, 2, 3, 4], [3, 1, 8, 3, 5], [1, 4, 2, 3, 5], [2, 3, 6, 87, 4]] [[1, 4, 2, 3, 5], [2, 3, 6, 87, 4], [3, 1, 8, 3, 5], [54, 2, 3, 4]]\n"
     ]
    }
   ],
   "source": [
    "#a  = array('f',[1,2,3,4])\n",
    "#b=array('f',[2,1,3,4])\n",
    "a=[1,4,2,3,5]\n",
    "b=[3,1,8,3,5]\n",
    "d=[2,3,6,87,4]\n",
    "e=[54,2,3,4]\n",
    "#c=array('f',[a,b])\n",
    "c=[e,b,a,d]\n",
    "print(c,sorted(c))\n"
   ]
  },
  {
   "cell_type": "code",
   "execution_count": null,
   "metadata": {},
   "outputs": [],
   "source": []
  }
 ],
 "metadata": {
  "kernelspec": {
   "display_name": "PyROOT - Python3",
   "language": "python",
   "name": "pyroot3"
  },
  "language_info": {
   "codemirror_mode": {
    "name": "ipython",
    "version": 3
   },
   "file_extension": ".py",
   "mimetype": "text/x-python",
   "name": "python",
   "nbconvert_exporter": "python",
   "pygments_lexer": "ipython3",
   "version": "3.6.8"
  }
 },
 "nbformat": 4,
 "nbformat_minor": 4
}
