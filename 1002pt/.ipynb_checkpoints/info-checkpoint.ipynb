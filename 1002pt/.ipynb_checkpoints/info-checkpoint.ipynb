{
 "cells": [
  {
   "cell_type": "code",
   "execution_count": 6,
   "metadata": {},
   "outputs": [],
   "source": [
    "import ROOT,glob,math,os\n",
    "from array import array"
   ]
  },
  {
   "cell_type": "code",
   "execution_count": 7,
   "metadata": {},
   "outputs": [
    {
     "name": "stdout",
     "output_type": "stream",
     "text": [
      "tau\n",
      "RunNumber\n",
      "EventNumber\n",
      "lbn\n",
      "mc_channel_number\n",
      "mc_event_number\n",
      "mc_event_weight\n",
      "MET_Truth_NonInt_etx\n",
      "MET_Truth_NonInt_ety\n",
      "MET_Truth_NonInt_et\n",
      "mc_n\n",
      "mc_pt\n",
      "mc_m\n",
      "mc_eta\n",
      "mc_phi\n",
      "mc_status\n",
      "mc_barcode\n",
      "mc_pdgId\n",
      "mc_charge\n",
      "mc_nTracks\n",
      "mc_pdgIdMoth\n",
      "jet4_truth_n\n",
      "jet4_truth_pt\n",
      "jet4_truth_eta\n",
      "jet4_truth_phi\n",
      "jet4_truth_m\n",
      "jet10_truth_n\n",
      "jet10_truth_pt\n",
      "jet10_truth_eta\n",
      "jet10_truth_phi\n",
      "jet10_truth_m\n",
      "jet10_truth_tau1\n",
      "jet10_truth_tau2\n",
      "jet10_truth_tau3\n",
      "======> EVENT:1\n",
      " RunNumber       = 100001\n",
      " EventNumber     = 2\n",
      " lbn             = 0\n",
      " mc_channel_number = 100001\n",
      " mc_event_number = 0\n",
      " mc_event_weight = 1\n",
      " MET_Truth_NonInt_etx = 0\n",
      " MET_Truth_NonInt_ety = 0\n",
      " MET_Truth_NonInt_et = 0\n",
      " mc_n            = 7\n",
      " mc_pt           = 9902.03, \n",
      "                  7313.69, 2588.4, 6036.26, 3112.34, 3669.07, \n",
      "                  6134.73\n",
      " mc_m            = 18300, \n",
      "                  8169.99, 9460.01, 0.511, 0.510995, 105.66, \n",
      "                  105.66\n",
      " mc_eta          = -4.84522, \n",
      "                  -4.56195, -5.37411, -4.62268, -3.32172, -4.06531, \n",
      "                  -4.02887\n",
      " mc_phi          = -0.157325, \n",
      "                  -0.159468, -0.151271, -0.589929, 0.78352, -2.88993, \n",
      "                  0.0854522\n",
      " mc_status       = 62, \n",
      "                  22, 22, 1, 1, 23, 23\n",
      " mc_barcode      = 159, \n",
      "                  223, 224, 225, 226, 227, 228\n",
      " mc_pdgId        = 25, \n",
      "                  23, 23, 11, -11, 13, -13\n",
      " mc_charge       = 0, \n",
      "                  0, 0, -1, 1, -1, \n",
      "                  1\n",
      " mc_nTracks      = -999, \n",
      "                  -999, -999, -999, -999, -999, -999\n",
      " mc_pdgIdMoth    = 21, \n",
      "                  25, 25, 23, 23, 23, 23\n",
      " jet4_truth_n    = 0\n",
      " jet10_truth_n   = 0\n"
     ]
    }
   ],
   "source": [
    "path=\"ntuple.root\"\n",
    "paths=glob.glob(path+\"*root\")\n",
    "f=ROOT.TFile(path,\"r\")\n",
    "hists=[]\n",
    "for i in f.GetListOfKeys():\n",
    "    print(i.GetName())\n",
    "    hists.append(i.GetName())\n",
    "t=f.Get(\"tau\")\n",
    "for j in t.GetListOfBranches():\n",
    "    print(j.GetName())\n",
    "    hists.append(i.GetName())\n",
    "t.Show(1)"
   ]
  },
  {
   "cell_type": "code",
   "execution_count": 12,
   "metadata": {},
   "outputs": [
    {
     "name": "stderr",
     "output_type": "stream",
     "text": [
      "Warning in <TCanvas::Constructor>: Deleting canvas with same name: c1\n"
     ]
    },
    {
     "data": {
      "image/png": "[encoded data removed]",
      "text/plain": [
       "<IPython.core.display.Image object>"
      ]
     },
     "metadata": {},
     "output_type": "display_data"
    }
   ],
   "source": [
    "c1=ROOT.TCanvas(\"c1\",\"c1\",100,0,900,700)\n",
    "c1.SetLeftMargin(0.12)\n",
    "c1.SetLogy()\n",
    "ROOT.gStyle.SetOptStat(0)\n",
    "t.Draw(\"mc_eta[4]\")\n",
    "c1.Draw()"
   ]
  },
  {
   "cell_type": "code",
   "execution_count": null,
   "metadata": {},
   "outputs": [],
   "source": []
  }
 ],
 "metadata": {
  "kernelspec": {
   "display_name": "PyROOT - Python3",
   "language": "python",
   "name": "pyroot3"
  },
  "language_info": {
   "codemirror_mode": {
    "name": "ipython",
    "version": 3
   },
   "file_extension": ".py",
   "mimetype": "text/x-python",
   "name": "python",
   "nbconvert_exporter": "python",
   "pygments_lexer": "ipython3",
   "version": "3.6.8"
  }
 },
 "nbformat": 4,
 "nbformat_minor": 4
}
