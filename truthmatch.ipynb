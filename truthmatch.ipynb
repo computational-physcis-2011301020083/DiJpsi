{
 "cells": [
  {
   "cell_type": "code",
   "execution_count": 1,
   "metadata": {},
   "outputs": [
    {
     "name": "stdout",
     "output_type": "stream",
     "text": [
      "Welcome to JupyROOT 6.18/00\n"
     ]
    }
   ],
   "source": [
    "import ROOT,glob,math,os\n",
    "from array import array"
   ]
  },
  {
   "cell_type": "code",
   "execution_count": 8,
   "metadata": {},
   "outputs": [
    {
     "name": "stdout",
     "output_type": "stream",
     "text": [
      "BPHY13\n",
      "======> EVENT:10\n",
      " cat             = 1001\n",
      " tq_rf_m         = 7029.75\n",
      " tq_m            = 6967.22\n",
      " tq_m_err        = 49.9562\n",
      " tq_fitChi2NDF   = 0.423692\n",
      " tq_eta          = 0.026091\n",
      " tq_phi          = -1.10099\n",
      " tq_pt           = 59209.6\n",
      " tq_pt_err       = 516.418\n",
      " tq_pt_sig       = 114.655\n",
      " tq_Lxy          = -0.0272506\n",
      " tq_Lxy_err      = 0.0635566\n",
      " tq_Lxy_sig      = -0.428761\n",
      " tq_PV_idx       = 0\n",
      " jpsi_rf_m       = 3096.92, \n",
      "                  3096.92\n",
      " jpsi_rf_m_err   = 0.0068269, \n",
      "                  0.00815556\n",
      " jpsi_rf_pt      = 34238.8, \n",
      "                  25635.3\n",
      " jpsi_rf_eta     = 0.00501261, \n",
      "                  0.0542837\n",
      " jpsi_rf_phi     = -1.05967, \n",
      "                  -1.15596\n",
      " jpsi_rf_Lxy     = 0.0758084, \n",
      "                  -0.0290185\n",
      " jpsi_rf_Lxy_err = 0.161528, \n",
      "                  0.078236\n",
      " jpsi_rf_Lxy_sig = 0.469321, \n",
      "                  -0.370911\n",
      " jpsi_rf_fitChi2 = 1.54939, \n",
      "                  1.52184\n",
      " jpsi_rf_fitNDF  = 2, \n",
      "                  2\n",
      " jpsi_rf_PV_idx  = 0, \n",
      "                  0\n",
      " jpsi_m          = 3048.9, \n",
      "                  3085.24\n",
      " muo_rf_E        = 28108.6, \n",
      "                  6270.37, 21190.1, 4669.11\n",
      " muo_rf_pt       = 28086, \n",
      "                  6197.24, 21137.8, 4667.02\n",
      " muo_rf_eta      = 0.0398897, \n",
      "                  -0.152543, 0.0701233, -0.0195419\n",
      " muo_rf_phi      = -1.08359, \n",
      "                  -0.951097, -1.20951, -0.911068\n",
      " muo_E           = 27531.7, \n",
      "                  6196.41, 21073, 4650.84\n",
      " muo_pt          = 27509.2, \n",
      "                  6124.17, 21020, 4648.7\n",
      " muo_eta         = 0.0402947, \n",
      "                  -0.152488, 0.0707998, -0.0200795\n",
      " muo_phi         = -1.0835, \n",
      "                  -0.951281, -1.20951, -0.911126\n",
      " muo_charge      = 1, \n",
      "                  -1, -1, 1\n",
      " muo_isMuon      = 1, \n",
      "                  1, 1, 1\n",
      " muo_isCombinedMuon = 1, \n",
      "                  1, 1, 1\n",
      " truth_n         = 7\n",
      " truth_pdgId     = 25, \n",
      "                  23, 13, -13, 23, 13, -13\n",
      " truth_mass      = 6996.25, \n",
      "                  3096.9, 105.66, 105.66, 3096.59, 105.66, \n",
      "                  105.66\n",
      " truth_pT        = 59532.1, \n",
      "                  25225, 20618.6, 4778.66, 34371.3, 6176.62, \n",
      "                  28238.9\n",
      " truth_eta       = 0.0260502, \n",
      "                  0.0539921, 0.0704135, -0.0189147, 0.00548093, -0.152192, \n",
      "                  0.0400777\n",
      " truth_phi       = -1.0997, \n",
      "                  -1.15387, -1.20966, -0.91088, -1.05996, -0.951418, \n",
      "                  -1.08366\n",
      " L1_n            = 8\n",
      " L1_name         = (vector<string>*)0x55555a85d600\n",
      " L1_prescale     = 1, \n",
      "                  1, 1, 1, 1, 1, 1, 1\n",
      " HLT_n           = 26\n",
      " HLT_name        = (vector<string>*)0x555559925ea0\n",
      " HLT_prescale    = 1, \n",
      "                  1, 1, 1, 1, 1, 1, 1, 1, 1, 1, \n",
      "                  1, 1, 1, 1, 1, 1, 1, 1, 1\n",
      " pass_HLT_2mu4_bJpsimumu = 0\n",
      " pass_HLT_2mu4_bUpsimumu = 0\n",
      " pass_HLT_3mu4_bJpsi = 0\n",
      " pass_HLT_3mu4_bUpsi = 0\n",
      " pass_HLT_3mu4_bDimu = 0\n",
      " pass_HLT_3mu4   = 0\n",
      " pass_HLT_mu6_mu4_bJpsimumu = 0\n",
      " pass_HLT_2mu6_bUpsimumu = 0\n",
      " pass_HLT_mu10_mu6_bJpsimumu = 0\n",
      " pass_HLT_mu6_2mu4_bJpsi = 0\n",
      " pass_HLT_3mu6_bJpsi = 0\n",
      " pass_HLT_mu6_2mu4_bUpsi = 0\n",
      " pass_HLT_mu11_mu6_bJpsimumu = 0\n",
      " pass_HLT_mu11_mu6_bDimu = 0\n",
      " pass_HLT_2mu4_mu3_mu2noL1_L13MU4 = 0\n",
      " pass_HLT_2mu4_mu3_mu2noL1_bNocut_L13MU4 = 0\n",
      " pass_HLT_3mu3_mu3noL1_L13MU4 = 0\n",
      " pass_HLT_3mu3_mu3noL1_bNocut_L13MU4 = 0\n",
      " pass_HLT_3mu4_mu2noL1 = 0\n",
      " pass_HLT_3mu4_mu4noL1 = 0\n",
      " pass_HLT_3mu4_nomucomb_mu2noL1 = 0\n",
      " pass_HLT_3mu4_nomucomb_mu4noL1 = 0\n",
      " pass_HLT_4mu4_bNocut = 0\n",
      " pass_HLT_4mu4_nomucomb = 0\n",
      " pass_HLT_2mu4_mu3_mu2noL1_calotag_0eta010_L13MU4 = 0\n",
      " pass_HLT_3mu4_mu2noL1_calotag_0eta010 = 0\n",
      " pass_HLT_mu11_mu6_bJpsimumu_Lxy0 = 0\n",
      " pass_HLT_mu11_mu6_bUpsimumu = 0\n",
      " pass_HLT_mu11_mu6_bDimu_Lxy0 = 0\n",
      " pass_HLT_3mu6_bDimu = 0\n"
     ]
    }
   ],
   "source": [
    "path1=\"./signal/\"\n",
    "paths=glob.glob(path1+\"*root\")\n",
    "f1=ROOT.TFile(paths[1],\"r\")\n",
    "hists=[]\n",
    "for i in f1.GetListOfKeys():\n",
    "    print(i.GetName())\n",
    "    hists.append(i.GetName())\n",
    "t1=f1.Get(\"BPHY13\")\n",
    "t1.Show(10)"
   ]
  },
  {
   "cell_type": "code",
   "execution_count": 10,
   "metadata": {},
   "outputs": [
    {
     "name": "stderr",
     "output_type": "stream",
     "text": [
      "Warning in <TCanvas::Constructor>: Deleting canvas with same name: c1\n"
     ]
    },
    {
     "data": {
      "image/png": "[encoded data removed]",
      "text/plain": [
       "<IPython.core.display.Image object>"
      ]
     },
     "metadata": {},
     "output_type": "display_data"
    }
   ],
   "source": [
    "c1=ROOT.TCanvas(\"c1\",\"c1\",100,0,900,700)\n",
    "c1.SetLeftMargin(0.12)\n",
    "c1.SetLogy()\n",
    "ROOT.gStyle.SetOptStat(0)\n",
    "t1.Draw(\"truth_mass[0]\")\n",
    "c1.Draw()"
   ]
  },
  {
   "cell_type": "code",
   "execution_count": null,
   "metadata": {},
   "outputs": [],
   "source": []
  }
 ],
 "metadata": {
  "kernelspec": {
   "display_name": "PyROOT - Python3",
   "language": "python",
   "name": "pyroot3"
  },
  "language_info": {
   "codemirror_mode": {
    "name": "ipython",
    "version": 3
   },
   "file_extension": ".py",
   "mimetype": "text/x-python",
   "name": "python",
   "nbconvert_exporter": "python",
   "pygments_lexer": "ipython3",
   "version": "3.6.8"
  }
 },
 "nbformat": 4,
 "nbformat_minor": 4
}
