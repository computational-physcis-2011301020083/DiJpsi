{
 "cells": [
  {
   "cell_type": "code",
   "execution_count": 3,
   "metadata": {},
   "outputs": [],
   "source": [
    "import ROOT,glob,math,os\n",
    "from array import array"
   ]
  },
  {
   "cell_type": "code",
   "execution_count": 4,
   "metadata": {},
   "outputs": [
    {
     "name": "stdout",
     "output_type": "stream",
     "text": [
      "['./BmumuMerge/data_cut7.txt', './BmumuMerge/data_cut0.txt']\n"
     ]
    }
   ],
   "source": [
    "path=\"./BmumuMerge/\"\n",
    "paths=glob.glob(path+\"*txt\")\n",
    "print(paths)"
   ]
  },
  {
   "cell_type": "code",
   "execution_count": 9,
   "metadata": {},
   "outputs": [
    {
     "name": "stdout",
     "output_type": "stream",
     "text": [
      "0.0 [-583.098, -5156.16, 8042.39, 9571.69, 1.0] [-782.971, -4429.81, 11813.3, 12641.2, -1.0] [3688.7, -903.209, 2700.03, 4660.86, -1.0] [2678.91, 1234.15, 2843.09, 4098.05, 1.0]\n",
      "OB array('f', [0.0]) array('f', [-583.0980224609375, -5156.16015625, 8042.39013671875, 9571.6904296875]) array('f', [-782.9710083007812, -4429.81005859375, 11813.2998046875, 12641.2001953125]) array('f', [3688.699951171875, -903.208984375, 2700.030029296875, 4660.85986328125]) array('f', [2678.909912109375, 1234.1500244140625, 2843.090087890625, 4098.0498046875]) array('f', [1.0, -1.0, -1.0, 1.0])\n",
      "1.0 [8455.31, 599.997, -1985.24, 8706.58, -1.0] [-1221.04, 6061.46, -18683.0, 19679.8, 1.0] [3037.49, -790.867, -1746.16, 3593.33, 1.0] [-814.326, 2111.07, -4677.53, 5197.13, -1.0]\n",
      "OB array('f', [1.0]) array('f', [8455.3095703125, 599.9970092773438, -1985.239990234375, 8706.580078125]) array('f', [-1221.0400390625, 6061.4599609375, -18683.0, 19679.80078125]) array('f', [3037.489990234375, -790.8670043945312, -1746.1600341796875, 3593.330078125]) array('f', [-814.3259887695312, 2111.070068359375, -4677.52978515625, 5197.1298828125]) array('f', [-1.0, 1.0, 1.0, -1.0])\n",
      "2.0 [4809.4, 6406.37, -7197.15, 10769.5, 1.0] [-6944.34, -2842.66, 6335.67, 9821.23, 1.0] [4264.77, 3866.15, -5567.62, 8009.05, -1.0] [-2350.91, -1055.6, 3637.1, 4458.78, -1.0]\n",
      "OB array('f', [2.0]) array('f', [4809.39990234375, 6406.3701171875, -7197.14990234375, 10769.5]) array('f', [-6944.33984375, -2842.659912109375, 6335.669921875, 9821.23046875]) array('f', [4264.77001953125, 3866.14990234375, -5567.6201171875, 8009.0498046875]) array('f', [-2350.909912109375, -1055.5999755859375, 3637.10009765625, 4458.77978515625]) array('f', [1.0, 1.0, -1.0, -1.0])\n"
     ]
    }
   ],
   "source": [
    "file1 = ROOT.TFile(\"test.root\", 'recreate')\n",
    "tree = ROOT.TTree(\"nominal\", \"test\")\n",
    "event  = array('f',[0])\n",
    "charge  = array('f',[0,0,0,0])\n",
    "muon_1= array('f',[0,0,0,0])\n",
    "muon_2= array('f',[0,0,0,0])\n",
    "muon_3= array('f',[0,0,0,0])\n",
    "muon_4= array('f',[0,0,0,0])\n",
    "tree.Branch(\"event\",  event,  'event/F')\n",
    "tree.Branch(\"charge\",  charge,  'charge[4]/F')\n",
    "tree.Branch(\"muon_1\",  muon_1,  'muon_1[4]/F')\n",
    "tree.Branch(\"muon_2\", muon_2, 'muon_2[4]/F')\n",
    "tree.Branch(\"muon_3\",  muon_3,  'muon_3[4]/F')\n",
    "tree.Branch(\"muon_4\", muon_4, 'muon_4[4]/F')\n",
    "f=open(paths[0],\"r\")\n",
    "#f=open(testpath,\"r\")\n",
    "lines=f.readlines()\n",
    "L=int(len(lines)/5)\n",
    "for j in range(3):\n",
    "        count=j*5\n",
    "        e=float(lines[count].split(\" \")[1])\n",
    "        m1=[float(k) for k in lines[count+1].split(\" \")]\n",
    "        m2=[float(k) for k in lines[count+2].split(\" \")]\n",
    "        m3=[float(k) for k in lines[count+3].split(\" \")]\n",
    "        m4=[float(k) for k in lines[count+4].split(\" \")]\n",
    "        print(e,m1,m2,m3,m4)\n",
    "        event[0]=e\n",
    "        muon_1[0]=m1[0]\n",
    "        muon_2[0]=m2[0]\n",
    "        muon_3[0]=m3[0]\n",
    "        muon_4[0]=m4[0]\n",
    "        muon_1[1]=m1[1]\n",
    "        muon_2[1]=m2[1]\n",
    "        muon_3[1]=m3[1]\n",
    "        muon_4[1]=m4[1]\n",
    "        muon_1[2]=m1[2]\n",
    "        muon_2[2]=m2[2]\n",
    "        muon_3[2]=m3[2]\n",
    "        muon_4[2]=m4[2]\n",
    "        muon_1[3]=m1[3]\n",
    "        muon_2[3]=m2[3]\n",
    "        muon_3[3]=m3[3]\n",
    "        muon_4[3]=m4[3]\n",
    "        charge[0]=m1[4]\n",
    "        charge[1]=m2[4]\n",
    "        charge[2]=m3[4]\n",
    "        charge[3]=m4[4]\n",
    "        print(\"OB\",event,muon_1,muon_2,muon_3,muon_4,charge)\n",
    "        tree.Fill()\n",
    "file1.Write()\n",
    "file1.Close()\n",
    "f.close()"
   ]
  },
  {
   "cell_type": "code",
   "execution_count": 15,
   "metadata": {},
   "outputs": [
    {
     "name": "stdout",
     "output_type": "stream",
     "text": [
      "nominal\n",
      "theta_x\n",
      "phi_1\n",
      "phi_2\n",
      "theta_phi_1\n",
      "theta_phi_2\n",
      "17515\n",
      "<Float_t buffer, size 4>\n",
      "<Float_t buffer, size 4>\n",
      "<Float_t buffer, size 4>\n",
      "<Float_t buffer, size 4>\n",
      "<Float_t buffer, size 4>\n",
      "<Float_t buffer, size 4>\n",
      "<Float_t buffer, size 4>\n",
      "<Float_t buffer, size 4>\n",
      "<Float_t buffer, size 4>\n",
      "<Float_t buffer, size 4>\n",
      "======> EVENT:0\n",
      " event           = 0\n",
      " charge          = 1, \n",
      "                  -1, -1, 1\n",
      " muon_1          = -583.098, \n",
      "                  -5156.16, 8042.39, 9571.69\n",
      " muon_2          = -782.971, \n",
      "                  -4429.81, 11813.3, 12641.2\n",
      " muon_3          = 3688.7, \n",
      "                  -903.209, 2700.03, 4660.86\n",
      " muon_4          = 2678.91, \n",
      "                  1234.15, 2843.09, 4098.05\n",
      "======> EVENT:1\n",
      " event           = 1\n",
      " charge          = -1, \n",
      "                  1, 1, -1\n",
      " muon_1          = 8455.31, \n",
      "                  599.997, -1985.24, 8706.58\n",
      " muon_2          = -1221.04, \n",
      "                  6061.46, -18683, 19679.8\n",
      " muon_3          = 3037.49, \n",
      "                  -790.867, -1746.16, 3593.33\n",
      " muon_4          = -814.326, \n",
      "                  2111.07, -4677.53, 5197.13\n",
      "======> EVENT:2\n",
      " event           = 2\n",
      " charge          = 1, \n",
      "                  1, -1, -1\n",
      " muon_1          = 4809.4, \n",
      "                  6406.37, -7197.15, 10769.5\n",
      " muon_2          = -6944.34, \n",
      "                  -2842.66, 6335.67, 9821.23\n",
      " muon_3          = 4264.77, \n",
      "                  3866.15, -5567.62, 8009.05\n",
      " muon_4          = -2350.91, \n",
      "                  -1055.6, 3637.1, 4458.78\n",
      "======> EVENT:3\n",
      " event           = 3\n",
      " charge          = -1, \n",
      "                  1, -1, 1\n",
      " muon_1          = 9279.26, \n",
      "                  13415.3, -24553.5, 29478.1\n",
      " muon_2          = -5074.25, \n",
      "                  -4284.82, -871.346, 6699.11\n",
      " muon_3          = -1605.15, \n",
      "                  -2701.73, 681.59, 3217.39\n",
      " muon_4          = 1428.79, \n",
      "                  2221.21, -3862.15, 4680.02\n",
      "======> EVENT:4\n",
      " event           = 4\n",
      " charge          = 1, \n",
      "                  -1, 1, -1\n",
      " muon_1          = -8742.99, \n",
      "                  8384.81, 1166.08, 12170.3\n",
      " muon_2          = 3993.55, \n",
      "                  -4297.5, -4715.96, 7527.84\n",
      " muon_3          = 2330.43, \n",
      "                  -2479.04, -2111.41, 4005.72\n",
      " muon_4          = -2067.81, \n",
      "                  941.783, -395.244, 2308.71\n",
      "======> EVENT:5\n",
      " event           = 5\n",
      " charge          = 1, \n",
      "                  -1, -1, 1\n",
      " muon_1          = 289.633, \n",
      "                  7865.93, -10047.9, 12764.3\n",
      " muon_2          = 3309.75, \n",
      "                  -6325.33, 4005.59, 8186.58\n",
      " muon_3          = 1753.69, \n",
      "                  2517.02, -2830, 4175.03\n",
      " muon_4          = 224.034, \n",
      "                  -2494.45, 2256.49, 3372.74\n"
     ]
    }
   ],
   "source": [
    "path=\"./BmumuMerge/\"\n",
    "paths=glob.glob(path+\"*root\")\n",
    "#print(paths)\n",
    "rootpath=paths[1]\n",
    "#rootpath=\"test.root\"\n",
    "ftest=ROOT.TFile(rootpath,\"r\")\n",
    "for i in ftest.GetListOfKeys():\n",
    "    print(i.GetName())\n",
    "ttest=ftest.Get(\"nominal\")\n",
    "ttest.Show(0)\n",
    "ttest.Show(1)\n",
    "ttest.Show(2)\n",
    "ttest.Show(3)\n",
    "ttest.Show(4)\n",
    "ttest.Show(5)\n",
    "N=ttest.GetEntries()\n",
    "print(N)\n",
    "for i in range(10):\n",
    "    ttest.GetEntry(i)\n",
    "    print(ttest.muon_1)"
   ]
  },
  {
   "cell_type": "code",
   "execution_count": 32,
   "metadata": {},
   "outputs": [
    {
     "name": "stdout",
     "output_type": "stream",
     "text": [
      "theta_x\n",
      "phi_1\n",
      "phi_2\n",
      "theta_phi_1\n",
      "theta_phi_2\n"
     ]
    },
    {
     "name": "stderr",
     "output_type": "stream",
     "text": [
      "Warning in <TCanvas::Constructor>: Deleting canvas with same name: c1\n"
     ]
    },
    {
     "data": {
      "image/png": "[encoded data removed]",
      "text/plain": [
       "<IPython.core.display.Image object>"
      ]
     },
     "metadata": {},
     "output_type": "display_data"
    }
   ],
   "source": [
    "path1=\"./hist/BmumuMerge_data_cut7.root\"\n",
    "f1=ROOT.TFile(path1,\"r\")\n",
    "hists=[]\n",
    "for i in f1.GetListOfKeys():\n",
    "    print(i.GetName())\n",
    "    hists.append(i.GetName())\n",
    "h1=f1.Get(hists[4])\n",
    "c1=ROOT.TCanvas(\"c1\",\"c1\",100,0,900,700)\n",
    "#c1.SetLogy()\n",
    "ROOT.gStyle.SetOptStat(0)\n",
    "h1.Draw()\n",
    "c1.Draw()"
   ]
  },
  {
   "cell_type": "markdown",
   "metadata": {},
   "source": [
    "v1=ROOT.Math.PositionVector3D(1,2,3)\n",
    "v1.SetXYZ(1.,2.,3.)\n",
    "p1= ROOT.Math.Plane3D.Point()\n",
    "p1.SetXYZ(4.,2.,3.)\n",
    "plane_1=ROOT.Math.Plane3D(v1,p1)"
   ]
  },
  {
   "cell_type": "code",
   "execution_count": 18,
   "metadata": {},
   "outputs": [
    {
     "name": "stdout",
     "output_type": "stream",
     "text": [
      "-1.0 0.0 <ROOT.ROOT::Math::DisplacementVector3D<ROOT::Math::Cartesian3D<double>,ROOT::Math::DefaultCoordinateSystemTag> object at 0x5a88aa0>\n"
     ]
    }
   ],
   "source": [
    "v1=ROOT.Math.Plane3D.Point() \n",
    "v1.SetXYZ(0.,0.,1.)\n",
    "p1= ROOT.Math.Plane3D.Point() \n",
    "p1.SetXYZ(0.,1.,0.) \n",
    "p2= ROOT.Math.Plane3D.Point() \n",
    "p2.SetXYZ(0.,0.,0.) \n",
    "plane_1=ROOT.Math.Plane3D(v1,p1,p2)\n",
    "a=plane_1.Normal()\n",
    "print(a.X(),a.Y(),a)"
   ]
  },
  {
   "cell_type": "code",
   "execution_count": null,
   "metadata": {},
   "outputs": [],
   "source": [
    "event 0\n",
    "10730.7 1106.09 35086.3 36707.3 -1\n",
    "-2874.93 7770.6 11394.4 14088.6 -1\n",
    "-1805.82 3420.55 4143.53 5669.32 1\n",
    "3155.76 905.493 11552.8 12010.7 1"
   ]
  }
 ],
 "metadata": {
  "kernelspec": {
   "display_name": "PyROOT - Python3",
   "language": "python",
   "name": "pyroot3"
  },
  "language_info": {
   "codemirror_mode": {
    "name": "ipython",
    "version": 3
   },
   "file_extension": ".py",
   "mimetype": "text/x-python",
   "name": "python",
   "nbconvert_exporter": "python",
   "pygments_lexer": "ipython3",
   "version": "3.6.8"
  }
 },
 "nbformat": 4,
 "nbformat_minor": 4
}
